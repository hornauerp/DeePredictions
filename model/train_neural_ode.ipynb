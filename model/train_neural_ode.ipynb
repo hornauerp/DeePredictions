{
 "cells": [
  {
   "cell_type": "code",
   "execution_count": 1,
   "metadata": {},
   "outputs": [],
   "source": [
    "%load_ext autoreload\n",
    "%autoreload 2"
   ]
  },
  {
   "cell_type": "code",
   "execution_count": 2,
   "metadata": {},
   "outputs": [
    {
     "name": "stderr",
     "output_type": "stream",
     "text": [
      "/home/phornauer/miniconda3/envs/si_env/envs/pytorch/lib/python3.10/site-packages/tqdm/auto.py:21: TqdmWarning: IProgress not found. Please update jupyter and ipywidgets. See https://ipywidgets.readthedocs.io/en/stable/user_install.html\n",
      "  from .autonotebook import tqdm as notebook_tqdm\n"
     ]
    }
   ],
   "source": [
    "import torch\n",
    "import sys\n",
    "from torch.utils.data import TensorDataset, DataLoader\n",
    "import matplotlib.pyplot as plt\n",
    "import numpy as np\n",
    "from neural_ode import (\n",
    "    LatentODEfunc,\n",
    "    RecognitionRNN,\n",
    "    Decoder,\n",
    "    VAE,\n",
    "    train,\n",
    "    vae_loss,\n",
    ") \n",
    "from torch.optim import Adam\n",
    "import elephant\n",
    "\n",
    "sys.path.append(\"/home/phornauer/Git/DeePredictions/data_processing\")\n",
    "import preprocessing as pp"
   ]
  },
  {
   "cell_type": "code",
   "execution_count": 3,
   "metadata": {},
   "outputs": [],
   "source": [
    "root_path = \"/net/bs-filesvr02/export/group/hierlemann/intermediate_data/Maxtwo/phornauer/Chemogenetics/Large_dose_range/well014/sorter_output/\"\n",
    "bl_times, bl_templates = pp.load_sorting_results(root_path)\n",
    "\n",
    "drug_times, drug_templates = pp.load_sorting_results(root_path,segment_idx=3)\n",
    "\n",
    "bl_spike_trains = pp.generate_unit_spike_train_list(bl_times, bl_templates)\n",
    "unit_ids = np.unique(bl_templates)\n",
    "drug_spike_trains = pp.generate_unit_spike_train_list(drug_times, drug_templates,unit_ids=unit_ids)\n",
    "sig_idx, fr_change = pp.find_significant_firing_rate_changes(root_path,post_idx=5,side=\"right\")\n",
    "bl_spike_trains_sig = elephant.neo_tools.SpikeTrainList([st for i, st in enumerate(bl_spike_trains) if sig_idx[i]])\n",
    "bl_spike_trains_non_sig = elephant.neo_tools.SpikeTrainList([st for i, st in enumerate(bl_spike_trains) if not sig_idx[i]])\n",
    "firing_rates = pp.generate_population_activities(bl_spike_trains,sig_idx, bin_size=0.005)"
   ]
  },
  {
   "cell_type": "code",
   "execution_count": 34,
   "metadata": {},
   "outputs": [
    {
     "name": "stdout",
     "output_type": "stream",
     "text": [
      "torch.Size([480, 500, 2])\n"
     ]
    }
   ],
   "source": [
    "data = firing_rates\n",
    "data_tensor = torch.tensor(data.transpose(), dtype=torch.float32)  # Convert to tensor and transpose to (N, 2)\n",
    "n_samples = 500\n",
    "n_batches = data_tensor.shape[0] // n_samples\n",
    "data_tensor = data_tensor[:n_batches*n_samples]  # Discard the remainder\n",
    "data_tensor = data_tensor.reshape((n_batches, n_samples, data.shape[0]))\n",
    "\n",
    "device = torch.device('cuda' if torch.cuda.is_available() else 'cpu')\n",
    "\n",
    "# Define the dimensions\n",
    "hidden_dim = 50\n",
    "latent_dim = 20\n",
    "obs_dim = data.shape[0]\n",
    "print(data_tensor.shape)\n"
   ]
  },
  {
   "cell_type": "code",
   "execution_count": 55,
   "metadata": {},
   "outputs": [
    {
     "name": "stdout",
     "output_type": "stream",
     "text": [
      "torch.Size([32, 500, 2])\n",
      "torch.Size([500, 500, 2])\n"
     ]
    },
    {
     "name": "stderr",
     "output_type": "stream",
     "text": [
      "/home/phornauer/Git/DeePredictions/model/neural_ode.py:109: UserWarning: Using a target size (torch.Size([32, 500, 2])) that is different to the input size (torch.Size([500, 500, 2])). This will likely lead to incorrect results due to broadcasting. Please ensure they have the same size.\n",
      "  recon_loss = F.mse_loss(x_hat, x, reduction=\"sum\")\n"
     ]
    },
    {
     "ename": "RuntimeError",
     "evalue": "The size of tensor a (500) must match the size of tensor b (32) at non-singleton dimension 0",
     "output_type": "error",
     "traceback": [
      "\u001b[0;31m---------------------------------------------------------------------------\u001b[0m",
      "\u001b[0;31mRuntimeError\u001b[0m                              Traceback (most recent call last)",
      "Cell \u001b[0;32mIn[55], line 15\u001b[0m\n\u001b[1;32m     13\u001b[0m losses \u001b[38;5;241m=\u001b[39m []\n\u001b[1;32m     14\u001b[0m \u001b[38;5;28;01mfor\u001b[39;00m epoch \u001b[38;5;129;01min\u001b[39;00m \u001b[38;5;28mrange\u001b[39m(\u001b[38;5;241m100\u001b[39m):  \u001b[38;5;66;03m# Train for 100 epochs\u001b[39;00m\n\u001b[0;32m---> 15\u001b[0m     epoch_loss \u001b[38;5;241m=\u001b[39m \u001b[43mtrain\u001b[49m\u001b[43m(\u001b[49m\u001b[43mmodel\u001b[49m\u001b[43m,\u001b[49m\u001b[43m \u001b[49m\u001b[43mdata_loader\u001b[49m\u001b[43m,\u001b[49m\u001b[43m \u001b[49m\u001b[43mdevice\u001b[49m\u001b[43m,\u001b[49m\u001b[43m \u001b[49m\u001b[43moptimizer\u001b[49m\u001b[43m,\u001b[49m\u001b[43m \u001b[49m\u001b[43mnum_epochs\u001b[49m\u001b[38;5;241;43m=\u001b[39;49m\u001b[38;5;241;43m1\u001b[39;49m\u001b[43m)\u001b[49m\n\u001b[1;32m     16\u001b[0m     losses\u001b[38;5;241m.\u001b[39mappend(epoch_loss)\n\u001b[1;32m     18\u001b[0m \u001b[38;5;66;03m# Save the model\u001b[39;00m\n",
      "File \u001b[0;32m~/Git/DeePredictions/model/neural_ode.py:129\u001b[0m, in \u001b[0;36mtrain\u001b[0;34m(model, data_loader, device, optimizer, num_epochs)\u001b[0m\n\u001b[1;32m    126\u001b[0m x_hat, z0_mean, z0_logvar \u001b[38;5;241m=\u001b[39m model(x)\n\u001b[1;32m    128\u001b[0m \u001b[38;5;66;03m# Compute loss\u001b[39;00m\n\u001b[0;32m--> 129\u001b[0m loss \u001b[38;5;241m=\u001b[39m \u001b[43mvae_loss\u001b[49m\u001b[43m(\u001b[49m\u001b[43mx\u001b[49m\u001b[43m,\u001b[49m\u001b[43m \u001b[49m\u001b[43mx_hat\u001b[49m\u001b[43m,\u001b[49m\u001b[43m \u001b[49m\u001b[43mz0_mean\u001b[49m\u001b[43m,\u001b[49m\u001b[43m \u001b[49m\u001b[43mz0_logvar\u001b[49m\u001b[43m)\u001b[49m\n\u001b[1;32m    131\u001b[0m \u001b[38;5;66;03m# Backward pass and optimization\u001b[39;00m\n\u001b[1;32m    132\u001b[0m loss\u001b[38;5;241m.\u001b[39mbackward()\n",
      "File \u001b[0;32m~/Git/DeePredictions/model/neural_ode.py:109\u001b[0m, in \u001b[0;36mvae_loss\u001b[0;34m(x, x_hat, z0_mean, z0_logvar)\u001b[0m\n\u001b[1;32m    107\u001b[0m \u001b[38;5;28;01mdef\u001b[39;00m \u001b[38;5;21mvae_loss\u001b[39m(x, x_hat, z0_mean, z0_logvar):\n\u001b[1;32m    108\u001b[0m     \u001b[38;5;66;03m# Reconstruction loss\u001b[39;00m\n\u001b[0;32m--> 109\u001b[0m     recon_loss \u001b[38;5;241m=\u001b[39m \u001b[43mF\u001b[49m\u001b[38;5;241;43m.\u001b[39;49m\u001b[43mmse_loss\u001b[49m\u001b[43m(\u001b[49m\u001b[43mx_hat\u001b[49m\u001b[43m,\u001b[49m\u001b[43m \u001b[49m\u001b[43mx\u001b[49m\u001b[43m,\u001b[49m\u001b[43m \u001b[49m\u001b[43mreduction\u001b[49m\u001b[38;5;241;43m=\u001b[39;49m\u001b[38;5;124;43m\"\u001b[39;49m\u001b[38;5;124;43msum\u001b[39;49m\u001b[38;5;124;43m\"\u001b[39;49m\u001b[43m)\u001b[49m\n\u001b[1;32m    111\u001b[0m     \u001b[38;5;66;03m# KL divergence\u001b[39;00m\n\u001b[1;32m    112\u001b[0m     kl_div \u001b[38;5;241m=\u001b[39m \u001b[38;5;241m-\u001b[39m\u001b[38;5;241m0.5\u001b[39m \u001b[38;5;241m*\u001b[39m torch\u001b[38;5;241m.\u001b[39msum(\u001b[38;5;241m1\u001b[39m \u001b[38;5;241m+\u001b[39m z0_logvar \u001b[38;5;241m-\u001b[39m z0_mean\u001b[38;5;241m.\u001b[39mpow(\u001b[38;5;241m2\u001b[39m) \u001b[38;5;241m-\u001b[39m z0_logvar\u001b[38;5;241m.\u001b[39mexp())\n",
      "File \u001b[0;32m~/miniconda3/envs/si_env/envs/pytorch/lib/python3.10/site-packages/torch/nn/functional.py:3279\u001b[0m, in \u001b[0;36mmse_loss\u001b[0;34m(input, target, size_average, reduce, reduction)\u001b[0m\n\u001b[1;32m   3276\u001b[0m \u001b[38;5;28;01mif\u001b[39;00m size_average \u001b[38;5;129;01mis\u001b[39;00m \u001b[38;5;129;01mnot\u001b[39;00m \u001b[38;5;28;01mNone\u001b[39;00m \u001b[38;5;129;01mor\u001b[39;00m reduce \u001b[38;5;129;01mis\u001b[39;00m \u001b[38;5;129;01mnot\u001b[39;00m \u001b[38;5;28;01mNone\u001b[39;00m:\n\u001b[1;32m   3277\u001b[0m     reduction \u001b[38;5;241m=\u001b[39m _Reduction\u001b[38;5;241m.\u001b[39mlegacy_get_string(size_average, reduce)\n\u001b[0;32m-> 3279\u001b[0m expanded_input, expanded_target \u001b[38;5;241m=\u001b[39m \u001b[43mtorch\u001b[49m\u001b[38;5;241;43m.\u001b[39;49m\u001b[43mbroadcast_tensors\u001b[49m\u001b[43m(\u001b[49m\u001b[38;5;28;43minput\u001b[39;49m\u001b[43m,\u001b[49m\u001b[43m \u001b[49m\u001b[43mtarget\u001b[49m\u001b[43m)\u001b[49m\n\u001b[1;32m   3280\u001b[0m \u001b[38;5;28;01mreturn\u001b[39;00m torch\u001b[38;5;241m.\u001b[39m_C\u001b[38;5;241m.\u001b[39m_nn\u001b[38;5;241m.\u001b[39mmse_loss(expanded_input, expanded_target, _Reduction\u001b[38;5;241m.\u001b[39mget_enum(reduction))\n",
      "File \u001b[0;32m~/miniconda3/envs/si_env/envs/pytorch/lib/python3.10/site-packages/torch/functional.py:73\u001b[0m, in \u001b[0;36mbroadcast_tensors\u001b[0;34m(*tensors)\u001b[0m\n\u001b[1;32m     71\u001b[0m \u001b[38;5;28;01mif\u001b[39;00m has_torch_function(tensors):\n\u001b[1;32m     72\u001b[0m     \u001b[38;5;28;01mreturn\u001b[39;00m handle_torch_function(broadcast_tensors, tensors, \u001b[38;5;241m*\u001b[39mtensors)\n\u001b[0;32m---> 73\u001b[0m \u001b[38;5;28;01mreturn\u001b[39;00m \u001b[43m_VF\u001b[49m\u001b[38;5;241;43m.\u001b[39;49m\u001b[43mbroadcast_tensors\u001b[49m\u001b[43m(\u001b[49m\u001b[43mtensors\u001b[49m\u001b[43m)\u001b[49m\n",
      "\u001b[0;31mRuntimeError\u001b[0m: The size of tensor a (500) must match the size of tensor b (32) at non-singleton dimension 0"
     ]
    }
   ],
   "source": [
    "func = LatentODEfunc(latent_dim, hidden_dim).to(device)\n",
    "rec = RecognitionRNN(latent_dim, obs_dim, hidden_dim).to(device)\n",
    "dec = Decoder(latent_dim, obs_dim, hidden_dim).to(device)\n",
    "params = (list(func.parameters()) + list(dec.parameters()) + list(rec.parameters()))\n",
    "\n",
    "model = VAE(func, rec, dec, obs_dim, latent_dim).to(device)\n",
    "\n",
    "dataset = TensorDataset(data_tensor)  # Create a TensorDataset\n",
    "data_loader = DataLoader(dataset, batch_size=32)  # Create a DataLoader\n",
    "\n",
    "optimizer = torch.optim.Adam(params, lr=0.001)\n",
    "\n",
    "losses = []\n",
    "for epoch in range(100):  # Train for 100 epochs\n",
    "    epoch_loss = train(model, data_loader, device, optimizer, num_epochs=1)\n",
    "    losses.append(epoch_loss)\n",
    "\n",
    "# Save the model\n",
    "torch.save(model.state_dict(), 'model.pth')\n",
    "\n",
    "# Save the training progress\n",
    "np.savetxt('training_progress.csv', losses, delimiter=',')\n",
    "\n",
    "# Visualize the training progress\n",
    "plt.plot(losses)\n",
    "plt.xlabel('Epoch')\n",
    "plt.ylabel('Loss')\n",
    "plt.title('Training progress')\n",
    "plt.show()"
   ]
  },
  {
   "cell_type": "code",
   "execution_count": 41,
   "metadata": {},
   "outputs": [],
   "source": [
    "xd = torch.Tensor([1,2,3]).to(device)"
   ]
  },
  {
   "cell_type": "code",
   "execution_count": 42,
   "metadata": {},
   "outputs": [
    {
     "data": {
      "text/plain": [
       "device(type='cuda', index=0)"
      ]
     },
     "execution_count": 42,
     "metadata": {},
     "output_type": "execute_result"
    }
   ],
   "source": [
    "xd.device"
   ]
  }
 ],
 "metadata": {
  "kernelspec": {
   "display_name": "pytorch",
   "language": "python",
   "name": "python3"
  },
  "language_info": {
   "codemirror_mode": {
    "name": "ipython",
    "version": 3
   },
   "file_extension": ".py",
   "mimetype": "text/x-python",
   "name": "python",
   "nbconvert_exporter": "python",
   "pygments_lexer": "ipython3",
   "version": "3.10.14"
  }
 },
 "nbformat": 4,
 "nbformat_minor": 2
}
